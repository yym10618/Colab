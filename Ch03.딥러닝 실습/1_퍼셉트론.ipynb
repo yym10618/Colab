{
  "nbformat": 4,
  "nbformat_minor": 0,
  "metadata": {
    "colab": {
      "name": "1.퍼셉트론.ipynb",
      "provenance": [],
      "collapsed_sections": [],
      "authorship_tag": "ABX9TyObMWFuUHe0cWugI+dgfqd6",
      "include_colab_link": true
    },
    "kernelspec": {
      "name": "python3",
      "display_name": "Python 3"
    },
    "language_info": {
      "name": "python"
    }
  },
  "cells": [
    {
      "cell_type": "markdown",
      "metadata": {
        "id": "view-in-github",
        "colab_type": "text"
      },
      "source": [
        "<a href=\"https://colab.research.google.com/github/yym10618/Colab/blob/master/Ch03.%EB%94%A5%EB%9F%AC%EB%8B%9D%20%EC%8B%A4%EC%8A%B5/1_%ED%8D%BC%EC%85%89%ED%8A%B8%EB%A1%A0.ipynb\" target=\"_parent\"><img src=\"https://colab.research.google.com/assets/colab-badge.svg\" alt=\"Open In Colab\"/></a>"
      ]
    },
    {
      "cell_type": "code",
      "execution_count": 1,
      "metadata": {
        "id": "ZP98kLz3oGzZ"
      },
      "outputs": [],
      "source": [
        "\"\"\"\n",
        "날짜 : 2022/05/09\n",
        "이름 : 양용민\n",
        "내용 : 퍼셉트론 실습하기\n",
        "\"\"\"\n",
        "import numpy as np"
      ]
    },
    {
      "cell_type": "code",
      "source": [
        "# 데이터 준비\n",
        "data = np.array([[0, 0], [0, 1], [1, 0], [1, 1]])\n",
        "label = np.array([[0], [1], [], []])"
      ],
      "metadata": {
        "id": "a-pgzUxGolLI"
      },
      "execution_count": 2,
      "outputs": []
    },
    {
      "cell_type": "code",
      "source": [
        "# AND 퍼셉트론\n",
        "def AND(x1, x2):\n",
        "  x = np.array([x1, x2])\n",
        "  w = np.array([0.5, 0.5])\n",
        "  b = -0.7\n",
        "\n",
        "  y = np.sum(x * w) + b\n",
        "\n",
        "  if y <= 0:\n",
        "    return 0\n",
        "  else:\n",
        "    return 1"
      ],
      "metadata": {
        "id": "s7E6r2yNo-qH"
      },
      "execution_count": 6,
      "outputs": []
    },
    {
      "cell_type": "code",
      "source": [
        "# OR 퍼셉트론\n",
        "def OR(x1, x2):\n",
        "  x = np.array([x1, x2])\n",
        "  w = np.array([2, 2])\n",
        "  b = -1\n",
        "\n",
        "  y = np.sum(x * w) + b\n",
        "\n",
        "  if y <= 0:\n",
        "    return 0\n",
        "  else:\n",
        "    return 1"
      ],
      "metadata": {
        "id": "wFb3TG2fpCrw"
      },
      "execution_count": 7,
      "outputs": []
    },
    {
      "cell_type": "code",
      "source": [
        "# NAND 퍼셉트론\n",
        "def NAND(x1, x2):\n",
        "  x = np.array([x1, x2])\n",
        "  w = np.array([-0.5, -0.5])\n",
        "  b = 0.7\n",
        "\n",
        "  y = np.sum(x * w) + b\n",
        "\n",
        "  if y <= 0:\n",
        "    return 0\n",
        "  else:\n",
        "    return 1"
      ],
      "metadata": {
        "id": "zbeIcCBdpEoB"
      },
      "execution_count": 8,
      "outputs": []
    },
    {
      "cell_type": "code",
      "source": [
        "# AND, OR, NAND 테스트\n",
        "print('AND')\n",
        "print('0, 0 :', AND(0, 0))\n",
        "print('0, 1 :', AND(0, 1))\n",
        "print('1, 0 :', AND(1, 0))\n",
        "print('1, 1 :', AND(1, 1))\n",
        "\n",
        "print('OR')\n",
        "print('0, 0 :', OR(0, 0))\n",
        "print('0, 1 :', OR(0, 1))\n",
        "print('1, 0 :', OR(1, 0))\n",
        "print('1, 1 :', OR(1, 1))\n",
        "\n",
        "print('NAND')\n",
        "print('0, 0 :', NAND(0, 0))\n",
        "print('0, 1 :', NAND(0, 1))\n",
        "print('1, 0 :', NAND(1, 0))\n",
        "print('1, 1 :', NAND(1, 1))"
      ],
      "metadata": {
        "colab": {
          "base_uri": "https://localhost:8080/"
        },
        "id": "vqsdHKUhqkPp",
        "outputId": "277a0731-148f-41ca-fc5c-5fa87823fdea"
      },
      "execution_count": 11,
      "outputs": [
        {
          "output_type": "stream",
          "name": "stdout",
          "text": [
            "AND\n",
            "0, 0 : 0\n",
            "0, 1 : 0\n",
            "1, 0 : 0\n",
            "1, 1 : 1\n",
            "OR\n",
            "0, 0 : 0\n",
            "0, 1 : 1\n",
            "1, 0 : 1\n",
            "1, 1 : 1\n",
            "NAND\n",
            "0, 0 : 1\n",
            "0, 1 : 1\n",
            "1, 0 : 1\n",
            "1, 1 : 0\n"
          ]
        }
      ]
    },
    {
      "cell_type": "code",
      "source": [
        "# XOR 퍼셉트론\n",
        "def XOR(x1, x2):\n",
        "  z1 = NAND(x1, x2)\n",
        "  z2 = OR(x1, x2)\n",
        "\n",
        "  y = AND(z1, z2)\n",
        "\n",
        "  return y"
      ],
      "metadata": {
        "id": "-T_WEa6npG2a"
      },
      "execution_count": 14,
      "outputs": []
    },
    {
      "cell_type": "code",
      "source": [
        "print('XOR')\n",
        "print('0, 0 :', XOR(0, 0))\n",
        "print('0, 1 :', XOR(0, 1))\n",
        "print('1, 0 :', XOR(1, 0))\n",
        "print('1, 1 :', XOR(1, 1))"
      ],
      "metadata": {
        "colab": {
          "base_uri": "https://localhost:8080/"
        },
        "id": "0k3ER8vrrcgm",
        "outputId": "929aa295-c17c-470e-e86f-bee2c6408efe"
      },
      "execution_count": 15,
      "outputs": [
        {
          "output_type": "stream",
          "name": "stdout",
          "text": [
            "XOR\n",
            "0, 0 : 0\n",
            "0, 1 : 1\n",
            "1, 0 : 1\n",
            "1, 1 : 0\n"
          ]
        }
      ]
    },
    {
      "cell_type": "code",
      "source": [
        ""
      ],
      "metadata": {
        "id": "PzNpLv6mrxYI"
      },
      "execution_count": null,
      "outputs": []
    }
  ]
}