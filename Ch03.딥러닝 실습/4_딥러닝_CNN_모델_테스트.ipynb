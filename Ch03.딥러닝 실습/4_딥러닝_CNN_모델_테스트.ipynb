{
  "nbformat": 4,
  "nbformat_minor": 0,
  "metadata": {
    "colab": {
      "name": "4.딥러닝 CNN 모델 테스트.ipynb",
      "provenance": [],
      "collapsed_sections": [],
      "mount_file_id": "1yXGy_xluHyjCbsLW9Dn9z4o3Z7T9YdXw",
      "authorship_tag": "ABX9TyPzgHk3XiaZb/Af1o9n6Iiz",
      "include_colab_link": true
    },
    "kernelspec": {
      "name": "python3",
      "display_name": "Python 3"
    },
    "language_info": {
      "name": "python"
    }
  },
  "cells": [
    {
      "cell_type": "markdown",
      "metadata": {
        "id": "view-in-github",
        "colab_type": "text"
      },
      "source": [
        "<a href=\"https://colab.research.google.com/github/yym10618/Colab/blob/master/Ch03.%EB%94%A5%EB%9F%AC%EB%8B%9D%20%EC%8B%A4%EC%8A%B5/4_%EB%94%A5%EB%9F%AC%EB%8B%9D_CNN_%EB%AA%A8%EB%8D%B8_%ED%85%8C%EC%8A%A4%ED%8A%B8.ipynb\" target=\"_parent\"><img src=\"https://colab.research.google.com/assets/colab-badge.svg\" alt=\"Open In Colab\"/></a>"
      ]
    },
    {
      "cell_type": "code",
      "execution_count": 6,
      "metadata": {
        "colab": {
          "base_uri": "https://localhost:8080/",
          "height": 35
        },
        "id": "Bbe54kGM7J-X",
        "outputId": "3893bd10-af66-4e51-8ebc-c69d5cf5afa3"
      },
      "outputs": [
        {
          "output_type": "execute_result",
          "data": {
            "text/plain": [
              "'2.8.0'"
            ],
            "application/vnd.google.colaboratory.intrinsic+json": {
              "type": "string"
            }
          },
          "metadata": {},
          "execution_count": 6
        }
      ],
      "source": [
        "\"\"\"\n",
        "날짜 : 2022/05/10\n",
        "이름 : 양용민\n",
        "내용 : 딥러닝 CNN 모델 테스트\n",
        "\"\"\"\n",
        "import matplotlib.pyplot as plt\n",
        "import numpy as np\n",
        "import tensorflow as tf\n",
        "from tensorflow.keras.datasets.cifar10 import load_data\n",
        "from tensorflow.keras.utils import to_categorical\n",
        "from tensorflow.keras.models import load_model\n",
        "from keras.preprocessing.image import load_img, img_to_array\n",
        "from PIL import Image\n",
        "tf.__version__"
      ]
    },
    {
      "cell_type": "code",
      "source": [
        "#데이터 불러오기\n",
        "(cifar_train_data, cifar_train_label), (cifar_test_data, cifar_test_label) = load_data()"
      ],
      "metadata": {
        "id": "wSjkh6pq7ZBJ"
      },
      "execution_count": 7,
      "outputs": []
    },
    {
      "cell_type": "code",
      "source": [
        "#모델학습을 위한 데이터 전처리(정규화)\n",
        "cifar_train_data = cifar_train_data / 255\n",
        "cifar_test_data = cifar_test_data / 255"
      ],
      "metadata": {
        "id": "sxI0nm0y8YnJ"
      },
      "execution_count": 8,
      "outputs": []
    },
    {
      "cell_type": "code",
      "source": [
        "#데이터 라벨을 범주형(one-hot encoding)으로 변환\n",
        "cifar_train_label = to_categorical(cifar_train_label)\n",
        "cifar_test_label = to_categorical(cifar_test_label)\n",
        "cifar_train_label[1]\n"
      ],
      "metadata": {
        "colab": {
          "base_uri": "https://localhost:8080/"
        },
        "id": "Sf_nl3Uv8cx_",
        "outputId": "48487405-33f0-4bdb-8692-cf65f8156ac5"
      },
      "execution_count": 9,
      "outputs": [
        {
          "output_type": "execute_result",
          "data": {
            "text/plain": [
              "array([0., 0., 0., 0., 0., 0., 0., 0., 0., 1.], dtype=float32)"
            ]
          },
          "metadata": {},
          "execution_count": 9
        }
      ]
    },
    {
      "cell_type": "code",
      "source": [
        "#외부 학습모델 불러오기\n",
        "model = load_model('/content/drive/MyDrive/파이썬 데이터 과학 실습/file/cifar_model.h5')\n",
        "model.summary()"
      ],
      "metadata": {
        "id": "ythXRrMI8e6n",
        "colab": {
          "base_uri": "https://localhost:8080/"
        },
        "outputId": "94c6c4f4-5f77-459f-bfd9-abd32279d1da"
      },
      "execution_count": 12,
      "outputs": [
        {
          "output_type": "stream",
          "name": "stdout",
          "text": [
            "Model: \"sequential\"\n",
            "_________________________________________________________________\n",
            " Layer (type)                Output Shape              Param #   \n",
            "=================================================================\n",
            " conv2d (Conv2D)             (None, 32, 32, 32)        896       \n",
            "                                                                 \n",
            " conv2d_1 (Conv2D)           (None, 32, 32, 32)        9248      \n",
            "                                                                 \n",
            " max_pooling2d (MaxPooling2D  (None, 16, 16, 32)       0         \n",
            " )                                                               \n",
            "                                                                 \n",
            " dropout (Dropout)           (None, 16, 16, 32)        0         \n",
            "                                                                 \n",
            " conv2d_2 (Conv2D)           (None, 16, 16, 64)        18496     \n",
            "                                                                 \n",
            " conv2d_3 (Conv2D)           (None, 16, 16, 64)        36928     \n",
            "                                                                 \n",
            " max_pooling2d_1 (MaxPooling  (None, 8, 8, 64)         0         \n",
            " 2D)                                                             \n",
            "                                                                 \n",
            " dropout_1 (Dropout)         (None, 8, 8, 64)          0         \n",
            "                                                                 \n",
            " conv2d_4 (Conv2D)           (None, 8, 8, 128)         73856     \n",
            "                                                                 \n",
            " conv2d_5 (Conv2D)           (None, 8, 8, 128)         147584    \n",
            "                                                                 \n",
            " max_pooling2d_2 (MaxPooling  (None, 4, 4, 128)        0         \n",
            " 2D)                                                             \n",
            "                                                                 \n",
            " dropout_2 (Dropout)         (None, 4, 4, 128)         0         \n",
            "                                                                 \n",
            " flatten (Flatten)           (None, 2048)              0         \n",
            "                                                                 \n",
            " dense (Dense)               (None, 256)               524544    \n",
            "                                                                 \n",
            " dense_1 (Dense)             (None, 10)                2570      \n",
            "                                                                 \n",
            "=================================================================\n",
            "Total params: 814,122\n",
            "Trainable params: 814,122\n",
            "Non-trainable params: 0\n",
            "_________________________________________________________________\n"
          ]
        }
      ]
    },
    {
      "cell_type": "code",
      "source": [
        "#모델 테스트\n",
        "result = model.evaluate(cifar_test_data, cifar_test_label)\n",
        "result"
      ],
      "metadata": {
        "id": "B6jE_wOH8_jX",
        "colab": {
          "base_uri": "https://localhost:8080/"
        },
        "outputId": "a67e4d1b-6f21-4d0d-ea1f-540de412b560"
      },
      "execution_count": 13,
      "outputs": [
        {
          "output_type": "stream",
          "name": "stdout",
          "text": [
            "313/313 [==============================] - 17s 54ms/step - loss: 0.6816 - acc: 0.7753\n"
          ]
        },
        {
          "output_type": "execute_result",
          "data": {
            "text/plain": [
              "[0.6815829277038574, 0.7753000259399414]"
            ]
          },
          "metadata": {},
          "execution_count": 13
        }
      ]
    },
    {
      "cell_type": "code",
      "source": [
        "###############################################################\n",
        "#이미지 로드 함수 정의\n",
        "def load_image(filename):\n",
        "\t# load the image\n",
        "\timg = load_img(filename, target_size=(32, 32))\n",
        "\t# convert to array\n",
        "\timg = img_to_array(img)\n",
        "\t# reshape into a single sample with 3 channels\n",
        "\timg = img.reshape(1, 32, 32, 3)\n",
        "\t# prepare pixel data\n",
        "\timg = img.astype('float32')\n",
        "\timg = img / 255.0\n",
        "\treturn img"
      ],
      "metadata": {
        "id": "ECU269XO9WlI"
      },
      "execution_count": 14,
      "outputs": []
    },
    {
      "cell_type": "code",
      "source": [
        "img = load_image('/content/drive/MyDrive/파이썬 데이터 과학 실습/file/frog.jpg')\n",
        "img"
      ],
      "metadata": {
        "colab": {
          "base_uri": "https://localhost:8080/"
        },
        "id": "Th6kPPZy9r2A",
        "outputId": "1b27ade4-90e8-401d-c5a1-c49dc5654847"
      },
      "execution_count": 15,
      "outputs": [
        {
          "output_type": "execute_result",
          "data": {
            "text/plain": [
              "array([[[[0.36862746, 0.47058824, 0.18431373],\n",
              "         [0.30588236, 0.4117647 , 0.10196079],\n",
              "         [0.3019608 , 0.41568628, 0.08627451],\n",
              "         ...,\n",
              "         [0.37254903, 0.50980395, 0.1882353 ],\n",
              "         [0.31764707, 0.4627451 , 0.16078432],\n",
              "         [0.25490198, 0.4       , 0.09803922]],\n",
              "\n",
              "        [[0.3882353 , 0.49019608, 0.20392157],\n",
              "         [0.39607844, 0.5019608 , 0.18431373],\n",
              "         [0.3254902 , 0.4392157 , 0.11764706],\n",
              "         ...,\n",
              "         [0.34509805, 0.45490196, 0.16470589],\n",
              "         [0.30588236, 0.42352942, 0.13333334],\n",
              "         [0.29803923, 0.4117647 , 0.09803922]],\n",
              "\n",
              "        [[0.37254903, 0.4745098 , 0.1882353 ],\n",
              "         [0.37254903, 0.47843137, 0.16078432],\n",
              "         [0.31764707, 0.43137255, 0.11764706],\n",
              "         ...,\n",
              "         [0.3254902 , 0.40392157, 0.16470589],\n",
              "         [0.3254902 , 0.4       , 0.14117648],\n",
              "         [0.3372549 , 0.4117647 , 0.09411765]],\n",
              "\n",
              "        ...,\n",
              "\n",
              "        [[0.34509805, 0.42352942, 0.14509805],\n",
              "         [0.36862746, 0.41960785, 0.2       ],\n",
              "         [0.3882353 , 0.41960785, 0.25882354],\n",
              "         ...,\n",
              "         [0.39215687, 0.49803922, 0.22745098],\n",
              "         [0.3647059 , 0.47058824, 0.16862746],\n",
              "         [0.42745098, 0.5137255 , 0.21960784]],\n",
              "\n",
              "        [[0.57254905, 0.6784314 , 0.4       ],\n",
              "         [0.44705883, 0.5294118 , 0.30980393],\n",
              "         [0.34117648, 0.40784314, 0.24313726],\n",
              "         ...,\n",
              "         [0.3254902 , 0.43137255, 0.15294118],\n",
              "         [0.4       , 0.49803922, 0.17254902],\n",
              "         [0.41960785, 0.5058824 , 0.17254902]],\n",
              "\n",
              "        [[0.29803923, 0.41960785, 0.15686275],\n",
              "         [0.39607844, 0.4862745 , 0.27450982],\n",
              "         [0.4392157 , 0.5137255 , 0.3372549 ],\n",
              "         ...,\n",
              "         [0.38039216, 0.49019608, 0.1882353 ],\n",
              "         [0.3882353 , 0.47843137, 0.16470589],\n",
              "         [0.47058824, 0.54901963, 0.21568628]]]], dtype=float32)"
            ]
          },
          "metadata": {},
          "execution_count": 15
        }
      ]
    },
    {
      "cell_type": "code",
      "source": [
        "#이미지 모델 테스트\n",
        "result = model.predict(img)\n",
        "result.round()"
      ],
      "metadata": {
        "colab": {
          "base_uri": "https://localhost:8080/"
        },
        "id": "Rg87pQ8y9-Sw",
        "outputId": "518ddb9e-caa3-40ca-e9a5-e3f08a0ce7d5"
      },
      "execution_count": 16,
      "outputs": [
        {
          "output_type": "execute_result",
          "data": {
            "text/plain": [
              "array([[0., 0., 0., 0., 0., 0., 1., 0., 0., 0.]], dtype=float32)"
            ]
          },
          "metadata": {},
          "execution_count": 16
        }
      ]
    }
  ]
}