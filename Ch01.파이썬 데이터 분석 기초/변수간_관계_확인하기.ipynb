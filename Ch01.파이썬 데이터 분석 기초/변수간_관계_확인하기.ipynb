{
  "nbformat": 4,
  "nbformat_minor": 0,
  "metadata": {
    "colab": {
      "name": "변수간 관계 확인하기.ipynb",
      "provenance": [],
      "collapsed_sections": [],
      "mount_file_id": "13Us-nVO8WY_EjUXv1-cz_7wtLXpY2cFy",
      "authorship_tag": "ABX9TyPklnnBbwQKw7iDhyIRvoUK",
      "include_colab_link": true
    },
    "kernelspec": {
      "name": "python3",
      "display_name": "Python 3"
    },
    "language_info": {
      "name": "python"
    }
  },
  "cells": [
    {
      "cell_type": "markdown",
      "metadata": {
        "id": "view-in-github",
        "colab_type": "text"
      },
      "source": [
        "<a href=\"https://colab.research.google.com/github/yym10618/Colab/blob/master/Ch01.%ED%8C%8C%EC%9D%B4%EC%8D%AC%20%EB%8D%B0%EC%9D%B4%ED%84%B0%20%EB%B6%84%EC%84%9D%20%EA%B8%B0%EC%B4%88/%EB%B3%80%EC%88%98%EA%B0%84_%EA%B4%80%EA%B3%84_%ED%99%95%EC%9D%B8%ED%95%98%EA%B8%B0.ipynb\" target=\"_parent\"><img src=\"https://colab.research.google.com/assets/colab-badge.svg\" alt=\"Open In Colab\"/></a>"
      ]
    },
    {
      "cell_type": "code",
      "source": [
        "import matplotlib.pyplot as plt\n",
        "import pandas as pd"
      ],
      "metadata": {
        "id": "nnlTdDcP03Pw"
      },
      "execution_count": 9,
      "outputs": []
    },
    {
      "cell_type": "code",
      "execution_count": 10,
      "metadata": {
        "colab": {
          "base_uri": "https://localhost:8080/",
          "height": 269
        },
        "id": "4DAXa7I_0uWN",
        "outputId": "caae533e-47ad-4f6d-8274-0ef920ca52a4"
      },
      "outputs": [
        {
          "output_type": "execute_result",
          "data": {
            "text/plain": [
              "        1Q    2Q    3Q    4Q\n",
              "Year                        \n",
              "2015   500   450   520   610\n",
              "2016   690   700   820   900\n",
              "2017  1100  1030  1200  1380\n",
              "2018  1500  1650  1700  1850\n",
              "2019  1990  2020  2300  2420\n",
              "2020  1020  1600  2200  2550"
            ],
            "text/html": [
              "\n",
              "  <div id=\"df-99f527c5-df4e-4ed9-9b72-f096d1ab559c\">\n",
              "    <div class=\"colab-df-container\">\n",
              "      <div>\n",
              "<style scoped>\n",
              "    .dataframe tbody tr th:only-of-type {\n",
              "        vertical-align: middle;\n",
              "    }\n",
              "\n",
              "    .dataframe tbody tr th {\n",
              "        vertical-align: top;\n",
              "    }\n",
              "\n",
              "    .dataframe thead th {\n",
              "        text-align: right;\n",
              "    }\n",
              "</style>\n",
              "<table border=\"1\" class=\"dataframe\">\n",
              "  <thead>\n",
              "    <tr style=\"text-align: right;\">\n",
              "      <th></th>\n",
              "      <th>1Q</th>\n",
              "      <th>2Q</th>\n",
              "      <th>3Q</th>\n",
              "      <th>4Q</th>\n",
              "    </tr>\n",
              "    <tr>\n",
              "      <th>Year</th>\n",
              "      <th></th>\n",
              "      <th></th>\n",
              "      <th></th>\n",
              "      <th></th>\n",
              "    </tr>\n",
              "  </thead>\n",
              "  <tbody>\n",
              "    <tr>\n",
              "      <th>2015</th>\n",
              "      <td>500</td>\n",
              "      <td>450</td>\n",
              "      <td>520</td>\n",
              "      <td>610</td>\n",
              "    </tr>\n",
              "    <tr>\n",
              "      <th>2016</th>\n",
              "      <td>690</td>\n",
              "      <td>700</td>\n",
              "      <td>820</td>\n",
              "      <td>900</td>\n",
              "    </tr>\n",
              "    <tr>\n",
              "      <th>2017</th>\n",
              "      <td>1100</td>\n",
              "      <td>1030</td>\n",
              "      <td>1200</td>\n",
              "      <td>1380</td>\n",
              "    </tr>\n",
              "    <tr>\n",
              "      <th>2018</th>\n",
              "      <td>1500</td>\n",
              "      <td>1650</td>\n",
              "      <td>1700</td>\n",
              "      <td>1850</td>\n",
              "    </tr>\n",
              "    <tr>\n",
              "      <th>2019</th>\n",
              "      <td>1990</td>\n",
              "      <td>2020</td>\n",
              "      <td>2300</td>\n",
              "      <td>2420</td>\n",
              "    </tr>\n",
              "    <tr>\n",
              "      <th>2020</th>\n",
              "      <td>1020</td>\n",
              "      <td>1600</td>\n",
              "      <td>2200</td>\n",
              "      <td>2550</td>\n",
              "    </tr>\n",
              "  </tbody>\n",
              "</table>\n",
              "</div>\n",
              "      <button class=\"colab-df-convert\" onclick=\"convertToInteractive('df-99f527c5-df4e-4ed9-9b72-f096d1ab559c')\"\n",
              "              title=\"Convert this dataframe to an interactive table.\"\n",
              "              style=\"display:none;\">\n",
              "        \n",
              "  <svg xmlns=\"http://www.w3.org/2000/svg\" height=\"24px\"viewBox=\"0 0 24 24\"\n",
              "       width=\"24px\">\n",
              "    <path d=\"M0 0h24v24H0V0z\" fill=\"none\"/>\n",
              "    <path d=\"M18.56 5.44l.94 2.06.94-2.06 2.06-.94-2.06-.94-.94-2.06-.94 2.06-2.06.94zm-11 1L8.5 8.5l.94-2.06 2.06-.94-2.06-.94L8.5 2.5l-.94 2.06-2.06.94zm10 10l.94 2.06.94-2.06 2.06-.94-2.06-.94-.94-2.06-.94 2.06-2.06.94z\"/><path d=\"M17.41 7.96l-1.37-1.37c-.4-.4-.92-.59-1.43-.59-.52 0-1.04.2-1.43.59L10.3 9.45l-7.72 7.72c-.78.78-.78 2.05 0 2.83L4 21.41c.39.39.9.59 1.41.59.51 0 1.02-.2 1.41-.59l7.78-7.78 2.81-2.81c.8-.78.8-2.07 0-2.86zM5.41 20L4 18.59l7.72-7.72 1.47 1.35L5.41 20z\"/>\n",
              "  </svg>\n",
              "      </button>\n",
              "      \n",
              "  <style>\n",
              "    .colab-df-container {\n",
              "      display:flex;\n",
              "      flex-wrap:wrap;\n",
              "      gap: 12px;\n",
              "    }\n",
              "\n",
              "    .colab-df-convert {\n",
              "      background-color: #E8F0FE;\n",
              "      border: none;\n",
              "      border-radius: 50%;\n",
              "      cursor: pointer;\n",
              "      display: none;\n",
              "      fill: #1967D2;\n",
              "      height: 32px;\n",
              "      padding: 0 0 0 0;\n",
              "      width: 32px;\n",
              "    }\n",
              "\n",
              "    .colab-df-convert:hover {\n",
              "      background-color: #E2EBFA;\n",
              "      box-shadow: 0px 1px 2px rgba(60, 64, 67, 0.3), 0px 1px 3px 1px rgba(60, 64, 67, 0.15);\n",
              "      fill: #174EA6;\n",
              "    }\n",
              "\n",
              "    [theme=dark] .colab-df-convert {\n",
              "      background-color: #3B4455;\n",
              "      fill: #D2E3FC;\n",
              "    }\n",
              "\n",
              "    [theme=dark] .colab-df-convert:hover {\n",
              "      background-color: #434B5C;\n",
              "      box-shadow: 0px 1px 3px 1px rgba(0, 0, 0, 0.15);\n",
              "      filter: drop-shadow(0px 1px 2px rgba(0, 0, 0, 0.3));\n",
              "      fill: #FFFFFF;\n",
              "    }\n",
              "  </style>\n",
              "\n",
              "      <script>\n",
              "        const buttonEl =\n",
              "          document.querySelector('#df-99f527c5-df4e-4ed9-9b72-f096d1ab559c button.colab-df-convert');\n",
              "        buttonEl.style.display =\n",
              "          google.colab.kernel.accessAllowed ? 'block' : 'none';\n",
              "\n",
              "        async function convertToInteractive(key) {\n",
              "          const element = document.querySelector('#df-99f527c5-df4e-4ed9-9b72-f096d1ab559c');\n",
              "          const dataTable =\n",
              "            await google.colab.kernel.invokeFunction('convertToInteractive',\n",
              "                                                     [key], {});\n",
              "          if (!dataTable) return;\n",
              "\n",
              "          const docLinkHtml = 'Like what you see? Visit the ' +\n",
              "            '<a target=\"_blank\" href=https://colab.research.google.com/notebooks/data_table.ipynb>data table notebook</a>'\n",
              "            + ' to learn more about interactive tables.';\n",
              "          element.innerHTML = '';\n",
              "          dataTable['output_type'] = 'display_data';\n",
              "          await google.colab.output.renderOutput(dataTable, element);\n",
              "          const docLink = document.createElement('div');\n",
              "          docLink.innerHTML = docLinkHtml;\n",
              "          element.appendChild(docLink);\n",
              "        }\n",
              "      </script>\n",
              "    </div>\n",
              "  </div>\n",
              "  "
            ]
          },
          "metadata": {},
          "execution_count": 10
        }
      ],
      "source": [
        "# 1. 아래와 같은 데이터프레임을 생성하시오.\n",
        "dataset = [[2015,  500,  450,  520,  610],\n",
        "           [2016,  690,  700,  820,  900],\n",
        "           [2017, 1100, 1030, 1200, 1380],\n",
        "           [2018, 1500, 1650, 1700, 1850],\n",
        "           [2019, 1990, 2020, 2300, 2420],\n",
        "           [2020, 1020, 1600, 2200, 2550]]\n",
        "\n",
        "df = pd.DataFrame(dataset, columns=['Year', '1Q', '2Q', '3Q', '4Q'])\n",
        "df.set_index('Year', inplace=True)\n",
        "df"
      ]
    },
    {
      "cell_type": "code",
      "source": [
        "# 2. 위 데이터프레임을 Sales.csv 파일로 저장하시오\n",
        "df.to_csv('/content/drive/MyDrive/파이썬 데이터 과학 실습/file/Sales.csv')"
      ],
      "metadata": {
        "id": "rZlTnqGB2Ay2"
      },
      "execution_count": 11,
      "outputs": []
    },
    {
      "cell_type": "code",
      "source": [
        "# 3. 위 데이터프레임을 아래의 그래프처럼 시각화 하시오.\n",
        "plt.title('2015 ~ 2020 Quarterly sales')\n",
        "plt.plot(['1Q', '2Q', '3Q', '4Q'], [500, 450, 520, 610], label='2015')\n",
        "plt.plot(['1Q', '2Q', '3Q', '4Q'], [690, 700, 820, 900], label='2016')\n",
        "plt.plot(['1Q', '2Q', '3Q', '4Q'], [1100, 1030, 1200, 1380], label='2017')\n",
        "plt.plot(['1Q', '2Q', '3Q', '4Q'], [1500, 1650, 1700, 1850], label='2018')\n",
        "plt.plot(['1Q', '2Q', '3Q', '4Q'], [1990, 2020, 2300, 2420], label='2019')\n",
        "plt.plot(['1Q', '2Q', '3Q', '4Q'], [1020, 1600, 2200, 2550], label='2020')\n",
        "plt.legend()\n",
        "plt.show()"
      ],
      "metadata": {
        "colab": {
          "base_uri": "https://localhost:8080/",
          "height": 281
        },
        "id": "R7ew9raq2X52",
        "outputId": "5ef9f3be-415d-4bef-970a-da3030476fe2"
      },
      "execution_count": 12,
      "outputs": [
        {
          "output_type": "display_data",
          "data": {
            "text/plain": [
              "<Figure size 432x288 with 1 Axes>"
            ],
            "image/png": "[encoded data removed]"
          },
          "metadata": {
            "needs_background": "light"
          }
        }
      ]
    }
  ]
}