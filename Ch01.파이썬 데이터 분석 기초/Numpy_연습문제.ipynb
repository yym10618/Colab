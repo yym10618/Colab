{
  "nbformat": 4,
  "nbformat_minor": 0,
  "metadata": {
    "colab": {
      "name": "Numpy 연습문제.ipynb",
      "provenance": [],
      "collapsed_sections": [],
      "authorship_tag": "ABX9TyOot5ZauV9tb+60vlsBQO/W",
      "include_colab_link": true
    },
    "kernelspec": {
      "name": "python3",
      "display_name": "Python 3"
    },
    "language_info": {
      "name": "python"
    }
  },
  "cells": [
    {
      "cell_type": "markdown",
      "metadata": {
        "id": "view-in-github",
        "colab_type": "text"
      },
      "source": [
        "<a href=\"https://colab.research.google.com/github/yym10618/Colab/blob/master/Ch01.%ED%8C%8C%EC%9D%B4%EC%8D%AC%20%EB%8D%B0%EC%9D%B4%ED%84%B0%20%EB%B6%84%EC%84%9D%20%EA%B8%B0%EC%B4%88/Numpy_%EC%97%B0%EC%8A%B5%EB%AC%B8%EC%A0%9C.ipynb\" target=\"_parent\"><img src=\"https://colab.research.google.com/assets/colab-badge.svg\" alt=\"Open In Colab\"/></a>"
      ]
    },
    {
      "cell_type": "code",
      "execution_count": 2,
      "metadata": {
        "id": "CGbfkzolKwgl"
      },
      "outputs": [],
      "source": [
        "\"\"\"\n",
        "날짜 : 2022/04/28\n",
        "이름 : 양용민\n",
        "내용 : Numpy 연습문제\n",
        "\"\"\"\n",
        "\n",
        "#라이브러리 선언\n",
        "import numpy as np"
      ]
    },
    {
      "cell_type": "code",
      "source": [
        "# 01. 파이썬 리스트 연산\n",
        "list1 = [1, 2]\n",
        "list2 = [3, 4]\n",
        "print(list1 + list2)"
      ],
      "metadata": {
        "colab": {
          "base_uri": "https://localhost:8080/"
        },
        "id": "ofI_Kw44LECR",
        "outputId": "43d4034c-9e40-46ac-c0e8-682864239545"
      },
      "execution_count": 3,
      "outputs": [
        {
          "output_type": "stream",
          "name": "stdout",
          "text": [
            "[1, 2, 3, 4]\n"
          ]
        }
      ]
    },
    {
      "cell_type": "code",
      "source": [
        "# 02. 넘파이 리스트(벡터) 연산\n",
        "list1 - np.array([1,2])\n",
        "list2 = np.array([3,4])\n",
        "print(list1 + list2)"
      ],
      "metadata": {
        "colab": {
          "base_uri": "https://localhost:8080/"
        },
        "id": "s6KaAteDLLyY",
        "outputId": "2d2e3da9-fa9b-43f7-e274-8bfe97b422ae"
      },
      "execution_count": 4,
      "outputs": [
        {
          "output_type": "stream",
          "name": "stdout",
          "text": [
            "[4 6]\n"
          ]
        }
      ]
    },
    {
      "cell_type": "code",
      "source": [
        "# 03. 0 벡터 생성 #1\n",
        "z = np.zeros(10)\n",
        "print(z)"
      ],
      "metadata": {
        "colab": {
          "base_uri": "https://localhost:8080/"
        },
        "id": "WWoz4HCILXsI",
        "outputId": "fca2b03d-af7a-4034-8734-6ed12db28ac4"
      },
      "execution_count": 5,
      "outputs": [
        {
          "output_type": "stream",
          "name": "stdout",
          "text": [
            "[0. 0. 0. 0. 0. 0. 0. 0. 0. 0.]\n"
          ]
        }
      ]
    },
    {
      "cell_type": "code",
      "source": [
        "# 04. 0 벡터 생성 #2\n",
        "z = np.zeros(10)\n",
        "z[4] = 1\n",
        "print(z)"
      ],
      "metadata": {
        "colab": {
          "base_uri": "https://localhost:8080/"
        },
        "id": "gHv3SEA9LfYQ",
        "outputId": "0dabe96f-0a40-4ee1-9179-d925b337fe70"
      },
      "execution_count": 6,
      "outputs": [
        {
          "output_type": "stream",
          "name": "stdout",
          "text": [
            "[0. 0. 0. 0. 1. 0. 0. 0. 0. 0.]\n"
          ]
        }
      ]
    },
    {
      "cell_type": "code",
      "source": [
        "# 05. 10 ~ 49까지 벡터 생성\n",
        "z = np.arange(10, 50)\n",
        "print(z)"
      ],
      "metadata": {
        "colab": {
          "base_uri": "https://localhost:8080/"
        },
        "id": "YVO7MWXOLnzQ",
        "outputId": "5ee1a1d3-4271-4251-c07e-7d8801accafc"
      },
      "execution_count": 7,
      "outputs": [
        {
          "output_type": "stream",
          "name": "stdout",
          "text": [
            "[10 11 12 13 14 15 16 17 18 19 20 21 22 23 24 25 26 27 28 29 30 31 32 33\n",
            " 34 35 36 37 38 39 40 41 42 43 44 45 46 47 48 49]\n"
          ]
        }
      ]
    },
    {
      "cell_type": "code",
      "source": [
        "# 06. 0부터 50까지 벡터 생성\n",
        "z = np.arange(50)\n",
        "print(z)"
      ],
      "metadata": {
        "colab": {
          "base_uri": "https://localhost:8080/"
        },
        "id": "NNye6FhBL_4w",
        "outputId": "958887cd-33c7-4fad-b44f-ce81f037a9ce"
      },
      "execution_count": 11,
      "outputs": [
        {
          "output_type": "stream",
          "name": "stdout",
          "text": [
            "[ 0  1  2  3  4  5  6  7  8  9 10 11 12 13 14 15 16 17 18 19 20 21 22 23\n",
            " 24 25 26 27 28 29 30 31 32 33 34 35 36 37 38 39 40 41 42 43 44 45 46 47\n",
            " 48 49]\n"
          ]
        }
      ]
    },
    {
      "cell_type": "code",
      "source": [
        "# 07. index 1부터 index 10까지\n",
        "z = np.arange(50)\n",
        "z = z[1:10]\n",
        "print(z)"
      ],
      "metadata": {
        "colab": {
          "base_uri": "https://localhost:8080/"
        },
        "id": "LyyH6okRLuwI",
        "outputId": "bf656357-b742-4acd-8aa4-45d4272368e2"
      },
      "execution_count": 10,
      "outputs": [
        {
          "output_type": "stream",
          "name": "stdout",
          "text": [
            "[1 2 3 4 5 6 7 8 9]\n"
          ]
        }
      ]
    },
    {
      "cell_type": "code",
      "source": [
        "# 08. index 1부터 index 10까지 2칸 간격으로\n",
        "z = np.arange(50)\n",
        "z = z[1:10:2]\n",
        "print(z)"
      ],
      "metadata": {
        "colab": {
          "base_uri": "https://localhost:8080/"
        },
        "id": "sR5QHO0QL5KJ",
        "outputId": "d7c01fd7-c589-4676-d360-69762b767f05"
      },
      "execution_count": 12,
      "outputs": [
        {
          "output_type": "stream",
          "name": "stdout",
          "text": [
            "[1 3 5 7 9]\n"
          ]
        }
      ]
    },
    {
      "cell_type": "code",
      "source": [
        "# 09. 처음부터 끝까지 2칸 간격으로\n",
        "z = np.arange(50)\n",
        "z = z[::2]\n",
        "print(z)"
      ],
      "metadata": {
        "colab": {
          "base_uri": "https://localhost:8080/"
        },
        "id": "qemc4kJyMSQ4",
        "outputId": "626679b1-42f7-4fa8-baac-bbad68033649"
      },
      "execution_count": 13,
      "outputs": [
        {
          "output_type": "stream",
          "name": "stdout",
          "text": [
            "[ 0  2  4  6  8 10 12 14 16 18 20 22 24 26 28 30 32 34 36 38 40 42 44 46\n",
            " 48]\n"
          ]
        }
      ]
    },
    {
      "cell_type": "code",
      "source": [
        "# 10. 10부터 끝까지\n",
        "z = np.arange(50)\n",
        "z = z[10::]\n",
        "print(z)"
      ],
      "metadata": {
        "colab": {
          "base_uri": "https://localhost:8080/"
        },
        "id": "Wp2_zs0LMcIv",
        "outputId": "d47daec5-3c52-4a35-f809-897304556e4e"
      },
      "execution_count": 14,
      "outputs": [
        {
          "output_type": "stream",
          "name": "stdout",
          "text": [
            "[10 11 12 13 14 15 16 17 18 19 20 21 22 23 24 25 26 27 28 29 30 31 32 33\n",
            " 34 35 36 37 38 39 40 41 42 43 44 45 46 47 48 49]\n"
          ]
        }
      ]
    },
    {
      "cell_type": "code",
      "source": [
        "# 11. 1부터 끝까지 2칸 간격으로\n",
        "z = np.arange(50)\n",
        "z = z[1::2]\n",
        "print(z)"
      ],
      "metadata": {
        "colab": {
          "base_uri": "https://localhost:8080/"
        },
        "id": "HD7Q4_xoMlMv",
        "outputId": "d9d82d3c-0eab-4428-aa65-b4831e5500b6"
      },
      "execution_count": 15,
      "outputs": [
        {
          "output_type": "stream",
          "name": "stdout",
          "text": [
            "[ 1  3  5  7  9 11 13 15 17 19 21 23 25 27 29 31 33 35 37 39 41 43 45 47\n",
            " 49]\n"
          ]
        }
      ]
    },
    {
      "cell_type": "code",
      "source": [
        "# 12. 처음부터 끝까지 -1칸 간격으로(==역순으로)\n",
        "z = np.arange(50)\n",
        "z = z[::-1]\n",
        "print(z)"
      ],
      "metadata": {
        "colab": {
          "base_uri": "https://localhost:8080/"
        },
        "id": "KiyLE6MbMuMA",
        "outputId": "bcae5579-4248-4cd0-a73b-d80598626010"
      },
      "execution_count": 16,
      "outputs": [
        {
          "output_type": "stream",
          "name": "stdout",
          "text": [
            "[49 48 47 46 45 44 43 42 41 40 39 38 37 36 35 34 33 32 31 30 29 28 27 26\n",
            " 25 24 23 22 21 20 19 18 17 16 15 14 13 12 11 10  9  8  7  6  5  4  3  2\n",
            "  1  0]\n"
          ]
        }
      ]
    },
    {
      "cell_type": "code",
      "source": [
        "# 13. 3x3 벡터(행렬) 생성\n",
        "z = np.arange(9).reshape(3,3)\n",
        "print(z)"
      ],
      "metadata": {
        "colab": {
          "base_uri": "https://localhost:8080/"
        },
        "id": "Y6gGSTqDM2vA",
        "outputId": "dab6bc5d-fde2-40d1-fbd2-37ff81bc939f"
      },
      "execution_count": 17,
      "outputs": [
        {
          "output_type": "stream",
          "name": "stdout",
          "text": [
            "[[0 1 2]\n",
            " [3 4 5]\n",
            " [6 7 8]]\n"
          ]
        }
      ]
    },
    {
      "cell_type": "code",
      "source": [
        "# 14. 3x3 벡터(행렬) 인덱싱\n",
        "z = np.arange(9).reshape(3,3)\n",
        "z = z[1:3, 0:3]\n",
        "print(z)"
      ],
      "metadata": {
        "colab": {
          "base_uri": "https://localhost:8080/"
        },
        "id": "2DW6YyTLNA6f",
        "outputId": "2bb762b5-3ddb-4c09-c6ae-229f1bfcf1d5"
      },
      "execution_count": 18,
      "outputs": [
        {
          "output_type": "stream",
          "name": "stdout",
          "text": [
            "[[3 4 5]\n",
            " [6 7 8]]\n"
          ]
        }
      ]
    },
    {
      "cell_type": "code",
      "source": [
        "# 15. 3x3 벡터(행렬) 인덱싱\n",
        "z = np.arange(9).reshape(3,3)\n",
        "z = z[:2,1:]\n",
        "print(z)"
      ],
      "metadata": {
        "colab": {
          "base_uri": "https://localhost:8080/"
        },
        "id": "RqS1WO0-NLUI",
        "outputId": "08fb2f37-287a-4ce8-fa09-cf7b2c13e8fa"
      },
      "execution_count": 20,
      "outputs": [
        {
          "output_type": "stream",
          "name": "stdout",
          "text": [
            "[[1 2]\n",
            " [4 5]]\n"
          ]
        }
      ]
    },
    {
      "cell_type": "code",
      "source": [
        "# 16. 3x3 벡터(행렬) 인덱싱\n",
        "z = np.arange(9).reshape(3,3)\n",
        "z = z[[0,1], 2]\n",
        "print(z)"
      ],
      "metadata": {
        "colab": {
          "base_uri": "https://localhost:8080/"
        },
        "id": "cTBLZUfANYy4",
        "outputId": "491c7849-e4d8-4aa1-cbeb-93d650da2630"
      },
      "execution_count": 21,
      "outputs": [
        {
          "output_type": "stream",
          "name": "stdout",
          "text": [
            "[2 5]\n"
          ]
        }
      ]
    },
    {
      "cell_type": "code",
      "source": [
        "# 17. 3x3 벡터(행렬) 인덱싱\n",
        "z = np.arange(9).reshape(3,3)\n",
        "z = z[[0,1], 0:2]\n",
        "print(z)"
      ],
      "metadata": {
        "colab": {
          "base_uri": "https://localhost:8080/"
        },
        "id": "Fpn8aBPUNmUw",
        "outputId": "52b5df97-40ed-41d2-dd40-5fd5123a20d3"
      },
      "execution_count": 22,
      "outputs": [
        {
          "output_type": "stream",
          "name": "stdout",
          "text": [
            "[[0 1]\n",
            " [3 4]]\n"
          ]
        }
      ]
    },
    {
      "cell_type": "code",
      "source": [
        "# 18. 3x3 벡터(행렬) 인덱싱\n",
        "z = np.arange(9).reshape(3,3)\n",
        "z = z[[0, 1]]\n",
        "print(z)"
      ],
      "metadata": {
        "colab": {
          "base_uri": "https://localhost:8080/"
        },
        "id": "bp5SU8yFNuPf",
        "outputId": "1edbb0a6-f12b-4e30-9fb3-8406638585dc"
      },
      "execution_count": 23,
      "outputs": [
        {
          "output_type": "stream",
          "name": "stdout",
          "text": [
            "[[0 1 2]\n",
            " [3 4 5]]\n"
          ]
        }
      ]
    },
    {
      "cell_type": "code",
      "source": [
        "# 19. 2x3 벡터(행렬) 생성\n",
        "z = np.arange(6).reshape(2,3)\n",
        "print(z)"
      ],
      "metadata": {
        "colab": {
          "base_uri": "https://localhost:8080/"
        },
        "id": "fvtjPN7ON3Af",
        "outputId": "a6f62b22-3327-4eb0-827e-545d86f9f620"
      },
      "execution_count": 24,
      "outputs": [
        {
          "output_type": "stream",
          "name": "stdout",
          "text": [
            "[[0 1 2]\n",
            " [3 4 5]]\n"
          ]
        }
      ]
    },
    {
      "cell_type": "code",
      "source": [
        "# 20. 2x5 벡터(행렬) 생성\n",
        "z = np.arange(10).reshape(2,5)\n",
        "print(z)"
      ],
      "metadata": {
        "colab": {
          "base_uri": "https://localhost:8080/"
        },
        "id": "m3CVepXXOBWv",
        "outputId": "49f8fdaf-250d-454b-9898-97aa49574e33"
      },
      "execution_count": 25,
      "outputs": [
        {
          "output_type": "stream",
          "name": "stdout",
          "text": [
            "[[0 1 2 3 4]\n",
            " [5 6 7 8 9]]\n"
          ]
        }
      ]
    },
    {
      "cell_type": "code",
      "source": [
        "# 21. 5x2 벡터(행렬) 생성\n",
        "z = np.arange(10).reshape(5,2)\n",
        "print(z)"
      ],
      "metadata": {
        "colab": {
          "base_uri": "https://localhost:8080/"
        },
        "id": "NhJb5FPxOMWY",
        "outputId": "bcf43987-2f18-4cf1-fa5b-e5d2cc90eb5b"
      },
      "execution_count": 26,
      "outputs": [
        {
          "output_type": "stream",
          "name": "stdout",
          "text": [
            "[[0 1]\n",
            " [2 3]\n",
            " [4 5]\n",
            " [6 7]\n",
            " [8 9]]\n"
          ]
        }
      ]
    },
    {
      "cell_type": "code",
      "source": [
        "# 22. 자동x5 벡터(행렬) 생성\n",
        "z = np.arange(10).reshape(-1,5)\n",
        "print(z)"
      ],
      "metadata": {
        "colab": {
          "base_uri": "https://localhost:8080/"
        },
        "id": "riPyx3wzOT2Q",
        "outputId": "b2177183-2bfd-44c8-b86b-e68e0d32e756"
      },
      "execution_count": 27,
      "outputs": [
        {
          "output_type": "stream",
          "name": "stdout",
          "text": [
            "[[0 1 2 3 4]\n",
            " [5 6 7 8 9]]\n"
          ]
        }
      ]
    },
    {
      "cell_type": "code",
      "source": [
        "# 23. 5x자동 벡터(행렬) 생성\n",
        "z = np.arange(10).reshape(5,-1)\n",
        "print(z)"
      ],
      "metadata": {
        "colab": {
          "base_uri": "https://localhost:8080/"
        },
        "id": "AHxhzFanOddA",
        "outputId": "5366c426-bb7c-420d-d6de-d3a689cead7e"
      },
      "execution_count": 28,
      "outputs": [
        {
          "output_type": "stream",
          "name": "stdout",
          "text": [
            "[[0 1]\n",
            " [2 3]\n",
            " [4 5]\n",
            " [6 7]\n",
            " [8 9]]\n"
          ]
        }
      ]
    },
    {
      "cell_type": "code",
      "source": [
        "# 24. 0이 아닌 값들의 index 반환\n",
        "nz = np.nonzero([1, 2, 0, 0, 4, 0])\n",
        "print(nz)"
      ],
      "metadata": {
        "colab": {
          "base_uri": "https://localhost:8080/"
        },
        "id": "g8p-zdcZOmvH",
        "outputId": "98eb45b9-416a-4497-a25f-e1b5091dcb10"
      },
      "execution_count": 29,
      "outputs": [
        {
          "output_type": "stream",
          "name": "stdout",
          "text": [
            "(array([0, 1, 4]),)\n"
          ]
        }
      ]
    },
    {
      "cell_type": "code",
      "source": [
        "# 25. 2차 단위행렬\n",
        "z = np.eye(2)\n",
        "print(z)"
      ],
      "metadata": {
        "colab": {
          "base_uri": "https://localhost:8080/"
        },
        "id": "t_sKcaaoO2EQ",
        "outputId": "307648a0-9396-4e1f-8df7-1a0dce110b1b"
      },
      "execution_count": 30,
      "outputs": [
        {
          "output_type": "stream",
          "name": "stdout",
          "text": [
            "[[1. 0.]\n",
            " [0. 1.]]\n"
          ]
        }
      ]
    },
    {
      "cell_type": "code",
      "source": [
        "# 26. 3차 단위행렬\n",
        "z = np.eye(3)\n",
        "print(z)"
      ],
      "metadata": {
        "colab": {
          "base_uri": "https://localhost:8080/"
        },
        "id": "Ow-TDUlXO-Yv",
        "outputId": "add1486c-4e07-4d49-9c23-9aee29dd6bbc"
      },
      "execution_count": 31,
      "outputs": [
        {
          "output_type": "stream",
          "name": "stdout",
          "text": [
            "[[1. 0. 0.]\n",
            " [0. 1. 0.]\n",
            " [0. 0. 1.]]\n"
          ]
        }
      ]
    },
    {
      "cell_type": "code",
      "source": [
        "# 27. 3x3x3 벡터 생성\n",
        "z = np.random.random((3,3,3))\n",
        "print(z)"
      ],
      "metadata": {
        "colab": {
          "base_uri": "https://localhost:8080/"
        },
        "id": "BF_I7kIMPEfY",
        "outputId": "08005c82-b4aa-4cd8-b0b9-3ded92348b92"
      },
      "execution_count": 32,
      "outputs": [
        {
          "output_type": "stream",
          "name": "stdout",
          "text": [
            "[[[0.49128721 0.69616977 0.84820989]\n",
            "  [0.59310206 0.85341625 0.0807263 ]\n",
            "  [0.47832625 0.9247561  0.18497128]]\n",
            "\n",
            " [[0.0132879  0.65180138 0.82550276]\n",
            "  [0.03161481 0.59586735 0.81615071]\n",
            "  [0.68518426 0.27150411 0.03352212]]\n",
            "\n",
            " [[0.22397971 0.33878813 0.40427646]\n",
            "  [0.83006623 0.16397239 0.06958618]\n",
            "  [0.00105012 0.20987049 0.19786957]]]\n"
          ]
        }
      ]
    },
    {
      "cell_type": "code",
      "source": [
        "# 28. 10x10 벡터에서 최대, 최소값\n",
        "z = np.random.random((10,10))\n",
        "z_min, z_max = z.min(), z.max()\n",
        "print('z_min :', z_min)\n",
        "print('z_max :', z_max)"
      ],
      "metadata": {
        "colab": {
          "base_uri": "https://localhost:8080/"
        },
        "id": "8msZzJwFPMiP",
        "outputId": "2ec20f07-80ff-4817-90af-ea61465baf0b"
      },
      "execution_count": 33,
      "outputs": [
        {
          "output_type": "stream",
          "name": "stdout",
          "text": [
            "z_min : 0.025202007480497945\n",
            "z_max : 0.9880728268281294\n"
          ]
        }
      ]
    },
    {
      "cell_type": "code",
      "source": [
        "# 29. 벡터 평균\n",
        "z = np.random.random(30)\n",
        "m = z.mean()\n",
        "print(z)\n",
        "print(m)"
      ],
      "metadata": {
        "colab": {
          "base_uri": "https://localhost:8080/"
        },
        "id": "fiLXRnGLPjMY",
        "outputId": "f7f65fb0-2880-4a58-80d3-14f776ef0a3e"
      },
      "execution_count": 35,
      "outputs": [
        {
          "output_type": "stream",
          "name": "stdout",
          "text": [
            "[0.01603678 0.35201447 0.92253796 0.81787471 0.00892834 0.55168608\n",
            " 0.31199007 0.23784047 0.83673125 0.66096429 0.55066016 0.98460344\n",
            " 0.37500151 0.19253989 0.5720237  0.33117714 0.73829372 0.11709982\n",
            " 0.08168998 0.98413779 0.86400996 0.6776453  0.3030756  0.85693488\n",
            " 0.33274756 0.34069428 0.92191839 0.31342621 0.8422335  0.36703077]\n",
            "0.5154516001348719\n"
          ]
        }
      ]
    },
    {
      "cell_type": "code",
      "source": [
        "# 30. 10x10 벡터(행렬)에서 border가 1인 벡터\n",
        "z = np.ones((10, 10))\n",
        "z[1:-1, 1:-1] = 0\n",
        "print(z)"
      ],
      "metadata": {
        "colab": {
          "base_uri": "https://localhost:8080/"
        },
        "id": "dOls30XfPqaP",
        "outputId": "bb6cbafb-52e3-4d4d-e880-ed80a4a1edb8"
      },
      "execution_count": 36,
      "outputs": [
        {
          "output_type": "stream",
          "name": "stdout",
          "text": [
            "[[1. 1. 1. 1. 1. 1. 1. 1. 1. 1.]\n",
            " [1. 0. 0. 0. 0. 0. 0. 0. 0. 1.]\n",
            " [1. 0. 0. 0. 0. 0. 0. 0. 0. 1.]\n",
            " [1. 0. 0. 0. 0. 0. 0. 0. 0. 1.]\n",
            " [1. 0. 0. 0. 0. 0. 0. 0. 0. 1.]\n",
            " [1. 0. 0. 0. 0. 0. 0. 0. 0. 1.]\n",
            " [1. 0. 0. 0. 0. 0. 0. 0. 0. 1.]\n",
            " [1. 0. 0. 0. 0. 0. 0. 0. 0. 1.]\n",
            " [1. 0. 0. 0. 0. 0. 0. 0. 0. 1.]\n",
            " [1. 1. 1. 1. 1. 1. 1. 1. 1. 1.]]\n"
          ]
        }
      ]
    },
    {
      "cell_type": "code",
      "source": [
        "# 31. 10x10 벡터(행렬)에서 0, 1 체크무늬 벡터\n",
        "z = np.zeros((10, 10))\n",
        "z[1::2, ::2] = 1\n",
        "z[::2, 1::2] = 1\n",
        "print(z)"
      ],
      "metadata": {
        "colab": {
          "base_uri": "https://localhost:8080/"
        },
        "id": "akcgCBTMP7Iv",
        "outputId": "527955b7-1c15-4071-eda8-3f252b122e6f"
      },
      "execution_count": 37,
      "outputs": [
        {
          "output_type": "stream",
          "name": "stdout",
          "text": [
            "[[0. 1. 0. 1. 0. 1. 0. 1. 0. 1.]\n",
            " [1. 0. 1. 0. 1. 0. 1. 0. 1. 0.]\n",
            " [0. 1. 0. 1. 0. 1. 0. 1. 0. 1.]\n",
            " [1. 0. 1. 0. 1. 0. 1. 0. 1. 0.]\n",
            " [0. 1. 0. 1. 0. 1. 0. 1. 0. 1.]\n",
            " [1. 0. 1. 0. 1. 0. 1. 0. 1. 0.]\n",
            " [0. 1. 0. 1. 0. 1. 0. 1. 0. 1.]\n",
            " [1. 0. 1. 0. 1. 0. 1. 0. 1. 0.]\n",
            " [0. 1. 0. 1. 0. 1. 0. 1. 0. 1.]\n",
            " [1. 0. 1. 0. 1. 0. 1. 0. 1. 0.]]\n"
          ]
        }
      ]
    },
    {
      "cell_type": "code",
      "source": [
        ""
      ],
      "metadata": {
        "id": "duVrY0SZQJjm"
      },
      "execution_count": null,
      "outputs": []
    }
  ]
}