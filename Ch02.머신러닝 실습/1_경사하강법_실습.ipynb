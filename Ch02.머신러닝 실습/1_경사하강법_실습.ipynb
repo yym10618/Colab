{
  "cells": [
    {
      "cell_type": "markdown",
      "metadata": {
        "id": "view-in-github",
        "colab_type": "text"
      },
      "source": [
        "<a href=\"https://colab.research.google.com/github/yym10618/Colab/blob/master/Ch02.%EB%A8%B8%EC%8B%A0%EB%9F%AC%EB%8B%9D%20%EC%8B%A4%EC%8A%B5/1_%EA%B2%BD%EC%82%AC%ED%95%98%EA%B0%95%EB%B2%95_%EC%8B%A4%EC%8A%B5.ipynb\" target=\"_parent\"><img src=\"https://colab.research.google.com/assets/colab-badge.svg\" alt=\"Open In Colab\"/></a>"
      ]
    },
    {
      "cell_type": "code",
      "execution_count": null,
      "metadata": {
        "id": "vrhOZ66ARSIX"
      },
      "outputs": [],
      "source": [
        "\"\"\"\n",
        "날짜 : 2022/05/02\n",
        "이름 : 양용민\n",
        "내용 : 머신러닝 경사하강법 실습하기\n",
        "\"\"\"\n",
        "from sklearn import svm  #sklearn(사이키런)"
      ]
    },
    {
      "cell_type": "code",
      "execution_count": null,
      "metadata": {
        "id": "hpo8J3gFZWnZ"
      },
      "outputs": [],
      "source": [
        "x_data = [170, 155, 150, 175, 165]\n",
        "y_data = [65, 50, 45, 70, 55]\n",
        "\n",
        "a = 0 #기울기\n",
        "b = 0 #절편\n",
        "eta = 0.0000075 #하강률"
      ]
    },
    {
      "cell_type": "code",
      "execution_count": null,
      "metadata": {
        "colab": {
          "background_save": true
        },
        "id": "lT9BnSdaaTMb"
      },
      "outputs": [],
      "source": [
        "while True:\n",
        "\n",
        "  new_a = a - eta * (x_data[0] * 2 * (a * x_data[0] + b - y_data[0]) + \n",
        "                     x_data[1] * 2 * (a * x_data[1] + b - y_data[1]) +\n",
        "                     x_data[2] * 2 * (a * x_data[2] + b - y_data[2]) +\n",
        "                     x_data[3] * 2 * (a * x_data[3] + b - y_data[3]) +\n",
        "                     x_data[4] * 2 * (a * x_data[4] + b - y_data[4]))\n",
        "  new_b = b - eta * (2 * b + 2 * (x_data[0] * a - y_data[0]) + \n",
        "                     2 * b + 2 * (x_data[1] * a - y_data[1]) +\n",
        "                     2 * b + 2 * (x_data[2] * a - y_data[2]) +\n",
        "                     2 * b + 2 * (x_data[3] * a - y_data[3]) +\n",
        "                     2 * b + 2 * (x_data[4] * a - y_data[4]))\n",
        "\n",
        "  if a == new_a:\n",
        "    break\n",
        "\n",
        "  a = new_a\n",
        "  b = new_b\n",
        "\n",
        "  print('a : %.12f, b: %.12f ' % (a, b))\n",
        "print('a 값 :', a)\n",
        "print('b 값 :', b)"
      ]
    },
    {
      "cell_type": "code",
      "execution_count": null,
      "metadata": {
        "id": "LA9QxEpKcEsj"
      },
      "outputs": [],
      "source": [
        ""
      ]
    }
  ],
  "metadata": {
    "colab": {
      "collapsed_sections": [],
      "name": "1.경사하강법 실습.ipynb",
      "provenance": [],
      "authorship_tag": "ABX9TyPVBkT3q6QRrrQPmPUhgVy/",
      "include_colab_link": true
    },
    "kernelspec": {
      "display_name": "Python 3",
      "name": "python3"
    },
    "language_info": {
      "name": "python"
    }
  },
  "nbformat": 4,
  "nbformat_minor": 0
}