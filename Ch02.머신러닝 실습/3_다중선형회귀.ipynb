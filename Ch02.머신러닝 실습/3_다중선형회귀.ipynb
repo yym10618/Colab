{
  "nbformat": 4,
  "nbformat_minor": 0,
  "metadata": {
    "colab": {
      "name": "3.다중선형회귀.ipynb",
      "provenance": [],
      "collapsed_sections": [],
      "authorship_tag": "ABX9TyNiKlWOZCMpz4EKSaVnDTvd",
      "include_colab_link": true
    },
    "kernelspec": {
      "name": "python3",
      "display_name": "Python 3"
    },
    "language_info": {
      "name": "python"
    }
  },
  "cells": [
    {
      "cell_type": "markdown",
      "metadata": {
        "id": "view-in-github",
        "colab_type": "text"
      },
      "source": [
        "<a href=\"https://colab.research.google.com/github/yym10618/Colab/blob/master/Ch02.%EB%A8%B8%EC%8B%A0%EB%9F%AC%EB%8B%9D%20%EC%8B%A4%EC%8A%B5/3_%EB%8B%A4%EC%A4%91%EC%84%A0%ED%98%95%ED%9A%8C%EA%B7%80.ipynb\" target=\"_parent\"><img src=\"https://colab.research.google.com/assets/colab-badge.svg\" alt=\"Open In Colab\"/></a>"
      ]
    },
    {
      "cell_type": "code",
      "execution_count": 1,
      "metadata": {
        "id": "47P7kiP1k7c6"
      },
      "outputs": [],
      "source": [
        "\"\"\"\n",
        "날짜 : 2022/05/02\n",
        "이름 : 양용민\n",
        "내용 : 다중 선형회귀분석 실습\n",
        "\"\"\"\n",
        "from sklearn.linear_model import LinearRegression"
      ]
    },
    {
      "cell_type": "code",
      "source": [
        "# 학습 데이터, 라벨 준비\n",
        "train_data = [[170, 27], [155, 25], [150, 34], [175, 51], [165, 47]] # 독립변수 2개\n",
        "train_label = [65, 50, 45, 70, 55]"
      ],
      "metadata": {
        "id": "mt6r4zYPlKfw"
      },
      "execution_count": 6,
      "outputs": []
    },
    {
      "cell_type": "code",
      "source": [
        "# 학습하기\n",
        "model = LinearRegression()\n",
        "model.fit(train_data, train_label)"
      ],
      "metadata": {
        "colab": {
          "base_uri": "https://localhost:8080/"
        },
        "id": "9rxqotpYlVCw",
        "outputId": "9554073d-499b-4e9b-c594-fd8c08058d0a"
      },
      "execution_count": 8,
      "outputs": [
        {
          "output_type": "execute_result",
          "data": {
            "text/plain": [
              "LinearRegression()"
            ]
          },
          "metadata": {},
          "execution_count": 8
        }
      ]
    },
    {
      "cell_type": "code",
      "source": [
        "# 테스트하기\n",
        "test_data = [[160, 45], [172, 21], [178, 39], [154, 17], [186, 53]]\n",
        "result = model.predict(test_data) # 결과(예측)값 predict()\n",
        "result"
      ],
      "metadata": {
        "colab": {
          "base_uri": "https://localhost:8080/"
        },
        "id": "mZegkWkLmD2v",
        "outputId": "fe0b6dde-2a19-437d-f59d-7217a5cc8e43"
      },
      "execution_count": 12,
      "outputs": [
        {
          "output_type": "execute_result",
          "data": {
            "text/plain": [
              "array([56.90711462, 67.55731225, 82.47233202, 50.46047431, 92.68181818])"
            ]
          },
          "metadata": {},
          "execution_count": 12
        }
      ]
    },
    {
      "cell_type": "code",
      "source": [
        "########################################################################\n",
        "# 다중선형회귀 연습문제\n",
        "\n",
        "# 학습 데이터, 라벨 준비\n",
        "train_data = [[170, 27, 1], [155, 25, 2], [150, 34, 2], [175, 51, 1], [165, 47, 1]] # 독립변수 3개\n",
        "train_label = [65, 50, 45, 70, 55]\n",
        "\n",
        "# 학습하기\n",
        "model = LinearRegression()\n",
        "model.fit(train_data, train_label)\n",
        "\n",
        "# 테스트하기\n",
        "test_data = [[160, 45, 2], [172, 21, 1], [178, 39, 2], [154, 17, 2], [186, 53, 1]]\n",
        "result = model.predict(test_data) # 결과(예측)값 predict()\n",
        "result"
      ],
      "metadata": {
        "colab": {
          "base_uri": "https://localhost:8080/"
        },
        "id": "YVrHx7XkmbJm",
        "outputId": "b5352010-11cd-4554-c389-1771891f9489"
      },
      "execution_count": 17,
      "outputs": [
        {
          "output_type": "execute_result",
          "data": {
            "text/plain": [
              "array([56.90711462, 67.55731225, 82.47233202, 50.46047431, 84.90513834])"
            ]
          },
          "metadata": {},
          "execution_count": 17
        }
      ]
    },
    {
      "cell_type": "code",
      "source": [
        ""
      ],
      "metadata": {
        "id": "GCfPID9pm8lt"
      },
      "execution_count": null,
      "outputs": []
    }
  ]
}